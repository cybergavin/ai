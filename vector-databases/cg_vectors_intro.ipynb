{
 "cells": [
  {
   "cell_type": "markdown",
   "id": "4d1bba68-7f6f-471c-8669-20153afa988c",
   "metadata": {},
   "source": [
    "# Introduction to Vectors"
   ]
  },
  {
   "cell_type": "markdown",
   "id": "308bec08-d70c-4c88-8cd6-55afd7b882ce",
   "metadata": {},
   "source": [
    "## What are vectors?"
   ]
  },
  {
   "cell_type": "markdown",
   "id": "cac8a2e4-dcee-4296-90ac-fab11f04dd84",
   "metadata": {},
   "source": [
    "A vector is a physical quantity that has both magnitude and direction. A vector can be represented as a ray with magnitude equal to the length of the ray and direction equal to the angle that the ray makes with the positive x-axis. \n",
    "\n",
    "![vector](2d-vector-2.png)\n",
    "\n",
    "In the image above, vector AB or vector v may be represented as *$\\overline{AB}$* = $\\vec v$ = 3i + 3j or in **component form** as *$\\overline{AB}$* = $\\vec v$ = (3,3). In calculus textbooks, the component form of vectors is usually denoted as $\\vec v = \\langle 3,3 \\rangle$\n",
    "\n",
    "The magnitude of the vector $\\vec v$ = (a,b) is $\\|\\vec v\\|$ = $\\sqrt {a^2 + b^2}$ and the direction of vector $\\vec v$ is $\\theta$\n",
    "\n",
    "So, in n-dimensional space, vector $\\vec v$ = ($a_1,a_2,...,a_n$) will have magnitude $\\|\\vec v\\|$ = $\\sqrt {a_1^2 + a_2^2 + ... +a_n^2}$\n",
    "\n",
    "**NOTE:** In machine learning, high dimension vector representations of data are called **embeddings**."
   ]
  },
  {
   "cell_type": "code",
   "execution_count": null,
   "id": "812492a4-c001-410b-9036-10698135ce67",
   "metadata": {
    "tags": []
   },
   "outputs": [],
   "source": [
    "!pip install numpy"
   ]
  },
  {
   "cell_type": "code",
   "execution_count": null,
   "id": "d4424259-a7c8-4003-aa7b-126d0a997344",
   "metadata": {
    "tags": []
   },
   "outputs": [],
   "source": [
    "# NumPy is Python library for numerical scientific computing\n",
    "import numpy as np\n",
    "\n",
    "# 2-dimensional vectors\n",
    "v_2d_1 = np.array([1,5])\n",
    "v_2d_2 = np.array([2,4])\n",
    "v_2d_3 = np.array([3,2])\n",
    "print(f\"Examples of 2-dimensional vectors are {v_2d_1}, {v_2d_2}, {v_2d_3}\")\n",
    "\n",
    "# 3-dimensional vectors\n",
    "v_3d_1 = np.array([1,5,6])\n",
    "v_3d_2 = np.array([2,4,8])\n",
    "v_3d_3 = np.array([3,2,5])\n",
    "print(f\"Examples of 3-dimensional vectors are {v_3d_1}, {v_3d_2}, {v_3d_3}\")"
   ]
  },
  {
   "cell_type": "markdown",
   "id": "6db86b88-de69-4987-8f03-a0f5ccc41058",
   "metadata": {},
   "source": [
    "## Vector similarity"
   ]
  },
  {
   "cell_type": "markdown",
   "id": "e8cc67b2-cfa1-4fb7-9c8e-e46feaeaf7bc",
   "metadata": {},
   "source": [
    "Vector similarity is a measure of the closeness of vectors. While there are several metrics for vector similarity, given below are some popular metrics."
   ]
  },
  {
   "cell_type": "markdown",
   "id": "3022207e-94b3-4dd7-9d10-e41f0257037f",
   "metadata": {},
   "source": [
    "### Euclidean distance"
   ]
  },
  {
   "cell_type": "markdown",
   "id": "4fed4bf5-d03f-408e-a5e0-60d1d1d86adf",
   "metadata": {},
   "source": [
    "The Euclidean distance is the shortest distance (straight-line) between 2 points in n-dimensional space.\n",
    "\n",
    "If **p** and **q** are 2 points in **n**-dimensional space, then the Euclidean distance **d** between them is given by $d(p,q) = \\sqrt{\\sum_{i=1}^n(q_i - p_i)^2}$"
   ]
  },
  {
   "cell_type": "code",
   "execution_count": null,
   "id": "fbb552b4-1a53-41ab-8123-b3af00551ed1",
   "metadata": {
    "tags": []
   },
   "outputs": [],
   "source": [
    "# Calculating Euclidean distance between points\n",
    "for v in v_2d_2, v_2d_3:\n",
    "    # Using mathematical formula above\n",
    "    print(f\"Euclidean distance between {v_2d_1} and {v} using the formula is {np.sqrt(np.sum(np.square(v_2d_1 - v)))}\")\n",
    "\n",
    "    # using linalg.norm()\n",
    "    print(f\"Euclidean distance between {v_2d_1} and {v} using numpy.linalg.norm is {np.linalg.norm(v_2d_1 - v)}\")"
   ]
  },
  {
   "cell_type": "markdown",
   "id": "5fab3360-efb9-406b-b148-9b840a128f43",
   "metadata": {},
   "source": [
    "If we plot the cartesian coordinates (1,5), (2,4) and (3,2), we'll see that point (1,5) is closer to point (2,4) than it is to (3,2) and this is demonstrated by Euclidean distance between the points as calculated by the above program."
   ]
  },
  {
   "cell_type": "markdown",
   "id": "12cbaee7-e4b1-4737-92cb-e6844efcd439",
   "metadata": {},
   "source": [
    "<div style=\"font-size: 18px;color:blue\">\n",
    "     The <b>smaller</b> the euclidean distance between vectors, the closer (more similar) the vectors.\n",
    "</div>"
   ]
  },
  {
   "cell_type": "markdown",
   "id": "b1fcd0de-8467-4a57-8c88-0e202369b5fa",
   "metadata": {},
   "source": [
    "### Cosine similarity"
   ]
  },
  {
   "cell_type": "markdown",
   "id": "7a2f9b0a-7815-44a6-a75f-1b29059fb4c2",
   "metadata": {},
   "source": [
    "Cosine similarity measures the cosine of the angle between the two vectors. This similarity metric denotes the similarity of vectors based on their direction and typically used when measuring similarity of text.\n",
    "\n",
    "If **p** and **q** are 2 points in n-dimensional space, then the cosine similarity (cos𝜃) between them is given by $\\cos\\theta = \\frac{\\vec p \\cdot \\vec q}{\\|\\vec p\\||\\vec q\\|}$"
   ]
  },
  {
   "cell_type": "code",
   "execution_count": null,
   "id": "bd217cdb-0ccb-405b-b34c-c7e5cca115d2",
   "metadata": {
    "tags": []
   },
   "outputs": [],
   "source": [
    "# Calculating cosine similarity between vectors\n",
    "for v in v_2d_2, v_2d_3:\n",
    "    # Using mathematical formula above\n",
    "    print(f\"Cosine similarity between {v_2d_1} and {v} is {np.dot(v_2d_1,v)/(np.linalg.norm(v_2d_1)*np.linalg.norm(v))}\")"
   ]
  },
  {
   "cell_type": "markdown",
   "id": "1c20be8a-23e8-42dd-9e1c-368dfc7fb5af",
   "metadata": {},
   "source": [
    "If we plot the cartesian coordinates (1,5), (2,4) and (3,2), we'll see that the angle $\\theta$ between the vectors represented by points (1,5) and (2,4) is smaller than that between the vectors represented by points (1,5) and (3,2). The smaller the angle, the larger the cosine of the angle."
   ]
  },
  {
   "cell_type": "markdown",
   "id": "5e57d015-6668-43a0-bd0e-1e918c76b952",
   "metadata": {},
   "source": [
    "<div style=\"font-size: 18px;color:blue\">\n",
    "The <b>larger</b> the cosine similarity between vectors, the closer (more similar) the vectors.\n",
    "</div>"
   ]
  },
  {
   "cell_type": "markdown",
   "id": "58ec3f9e-ac89-4bed-b6a7-d2d8f685a098",
   "metadata": {},
   "source": [
    "### Dot product"
   ]
  },
  {
   "cell_type": "markdown",
   "id": "3afeab5c-80ee-4142-b88e-228c898c44a2",
   "metadata": {},
   "source": [
    "The dot product or inner product of two vectors is the sum of the products of the vectors' corresponding components. For 2 vectors $\\vec p$ and $\\vec q$, the dot product is $\\vec p \\cdot \\vec q$ = $\\sum_{i=1}^n p_i q_i $\n",
    "The dot product of two vectors is also the product of their magnitudes and the cosine of the angle between them and given by $\\vec p \\cdot \\vec q$ = $\\|\\vec p \\| \\|\\vec q \\| cos \\theta$\n"
   ]
  },
  {
   "cell_type": "code",
   "execution_count": null,
   "id": "6b457e45-0c11-46c5-9dc5-0887115e7cb3",
   "metadata": {
    "tags": []
   },
   "outputs": [],
   "source": [
    "# Calculating dot product of two vectors\n",
    "for v in v_2d_2, v_2d_3:\n",
    "    # Using NumnPy library\n",
    "    print(f\"Dot product of {v_2d_1} and {v} using NumPy is {np.dot(v_2d_1,v)}\")\n",
    "    # Using sum formula\n",
    "    print(f\"Dot product of {v_2d_1} and {v} using sum formula is {np.sum(v_2d_1 * v)}\")  "
   ]
  },
  {
   "cell_type": "markdown",
   "id": "6778db96-e85a-4705-9974-4f96dd7076a4",
   "metadata": {},
   "source": [
    "<div style=\"font-size: 18px;color:blue\">\n",
    "The <b>larger</b> the dot product of vectors, the closer (more similar) the vectors.\n",
    "</div>"
   ]
  },
  {
   "cell_type": "markdown",
   "id": "8939f9d3-5dec-457d-a88a-9f10ea036b20",
   "metadata": {},
   "source": [
    "## Vector databases"
   ]
  },
  {
   "cell_type": "markdown",
   "id": "49e3804d-d99e-4d4c-b51c-8d1b79133962",
   "metadata": {},
   "source": [
    "A vector database is a database that stores data as high-dimensional vectors. The vectors are mathematical representations of data and the number of their dimensions depends on the attributes or features in the data (granularity of data). By representing data as high-dimensional vectors, the *meaning* and *context* of data may be captured and data similarity can be determined based on vector similarity (how close the vectors are). \n",
    "\n",
    "**Why use vector databases?** The main advantage of vector databases is the fast and accurate similarity search and retrieval of data based on their vector similarity. So, instead of search for data by *exact matches, regular expressions or other criteria*, data may be matched based on *semantics and context*.\n",
    "\n",
    "**Examples of vector databases:** Pinecone, Chroma, pg_vector (extension for PostgreSQL), sqlite_vss (extension for SQLite), Amazon OpenSearch"
   ]
  },
  {
   "cell_type": "markdown",
   "id": "ac98db0c-6927-455d-aea7-398332284b97",
   "metadata": {},
   "source": [
    "## Using vector databases for similarity searches"
   ]
  },
  {
   "cell_type": "markdown",
   "id": "642befab-802f-4ad3-b23e-e78ea8f7a107",
   "metadata": {},
   "source": [
    "Here's a simple example to demonstrate a similarity search using a vector database. The steps in this example are as follows:\n",
    "1.  Transform a few sentences into vectors (embeddings) using the sentence-transformers framework\n",
    "2.  Create a vector database and insert the transformed data (vectors) into the database\n",
    "3.  Use a query vector against the vector database to determine sentences that match the query"
   ]
  },
  {
   "cell_type": "markdown",
   "id": "afc5cc0b-896d-421e-b5a3-238bcc88c65c",
   "metadata": {},
   "source": [
    "#### 1. Transforming sentences into vectors"
   ]
  },
  {
   "cell_type": "markdown",
   "id": "e228e125-a0a9-4aab-a783-0c1762c33695",
   "metadata": {},
   "source": [
    "**Install the SentenceTransformers framework**"
   ]
  },
  {
   "cell_type": "code",
   "execution_count": null,
   "id": "28cb032a-8933-4a01-a670-7d8f96433d01",
   "metadata": {
    "tags": []
   },
   "outputs": [],
   "source": [
    "%pip install -U sentence-transformers # This will takle a while and consume about 6-8 GB storage space.\n",
    "%pip install ipywidgets"
   ]
  },
  {
   "cell_type": "code",
   "execution_count": null,
   "id": "248a5c30-d98c-4453-b9da-cc9cf6dbe141",
   "metadata": {
    "tags": []
   },
   "outputs": [],
   "source": [
    "!export TOKENIZERS_PARALLELISM=false # to work around a hugging face warning"
   ]
  },
  {
   "cell_type": "markdown",
   "id": "19a46e80-5b24-4726-b64c-d172929fc647",
   "metadata": {},
   "source": [
    "**Select model and transform sentences into vectors**"
   ]
  },
  {
   "cell_type": "code",
   "execution_count": null,
   "id": "9fac331b-d99e-493f-8287-345cb55c708d",
   "metadata": {
    "tags": []
   },
   "outputs": [],
   "source": [
    "from sentence_transformers import SentenceTransformer\n",
    "model = SentenceTransformer('all-MiniLM-L6-v2')\n",
    "\n",
    "# Our sentences we like to encode\n",
    "sentences = ['London is the capital of the UK. It is a cosmopolitan city with a lot of diversity. The weather is unpredictable and you will not regret carrying a brolly!',\n",
    "             'Toronto is the capital of Ontario, Canada. It has the famous CN tower. It snows a lot in winter.',\n",
    "             'The EPL is my favorite football league. International stars play in the EPL.',\n",
    "             'Go Gunners! Get past Man City next time! Arsenal and Man City are top clubs in the EPL.',\n",
    "             'Lionel Messi now plays for Inter Miami in the MLS.',\n",
    "             'The climate is warm in sunny California. Orange county in SoCal has nice beaches.']\n",
    "\n",
    "#Sentences are encoded by calling model.encode()\n",
    "embeddings = model.encode(sentences).tolist()\n",
    "\n",
    "# Create IDs (natural numbers from 1 onwards) for embeddings\n",
    "embeddings_ids = []\n",
    "for i in range(1,7,1):\n",
    "    embeddings_ids.append(str(i))\n",
    "\n",
    "# Print the embeddings\n",
    "for sentence, embedding in zip(sentences, embeddings):\n",
    "    print(\"Sentence:\", sentence)\n",
    "    print(\"Embedding:\", f\"{len(embedding)} dimensions\")\n",
    "    print(embedding)"
   ]
  },
  {
   "cell_type": "markdown",
   "id": "68b5beed-6395-41d8-84ca-46269708a7da",
   "metadata": {},
   "source": [
    "#### 2. Create a vector database and insert vectors"
   ]
  },
  {
   "cell_type": "markdown",
   "id": "1cfa0269-2f0b-48af-ac5a-eeb3fcc64500",
   "metadata": {},
   "source": [
    "For this example, the free tier of the fully-managed Pinecone vector database is used. Note that the desired vector similarity measure or metric is specified while creating the vector database (or index)."
   ]
  },
  {
   "cell_type": "markdown",
   "id": "d1df063d-d122-41f0-a815-ae08f2b60655",
   "metadata": {},
   "source": [
    "**Install the vector database**"
   ]
  },
  {
   "cell_type": "code",
   "execution_count": null,
   "id": "7980709b-ac47-4f10-ab59-696f87881dd4",
   "metadata": {
    "tags": []
   },
   "outputs": [],
   "source": [
    "!pip3 install ipython-secrets dbus-python keyrings.alt pinecone-client # pinecone and other utilities"
   ]
  },
  {
   "cell_type": "code",
   "execution_count": null,
   "id": "aaa59044-8acb-488b-af74-011b128e66c3",
   "metadata": {
    "tags": []
   },
   "outputs": [],
   "source": [
    "from ipython_secrets import *\n",
    "PINECONE_API_KEY = get_secret(\"PINECONE_API_KEY\")\n",
    "PINECONE_ENVIRONMENT = get_secret(\"PINECONE_ENVIRONMENT\")"
   ]
  },
  {
   "cell_type": "markdown",
   "id": "8feedbc2-4ff2-4dc1-9ba9-510d71368163",
   "metadata": {},
   "source": [
    "**Insert vectors into the vector database**"
   ]
  },
  {
   "cell_type": "code",
   "execution_count": null,
   "id": "278af64f-e8f5-48c5-b248-51a80a7436db",
   "metadata": {
    "tags": []
   },
   "outputs": [],
   "source": [
    "# Initialize Pinecone\n",
    "import pinecone\n",
    "pinecone.init(api_key=PINECONE_API_KEY, environment=PINECONE_ENVIRONMENT)\n",
    "\n",
    "# Create an index (vector database)\n",
    "if pinecone.list_indexes() == []:\n",
    "    pinecone.create_index(\"my-test-vdb\", dimension=384, metric=\"cosine\")\n",
    "\n",
    "# Connect to the index\n",
    "index = pinecone.Index(\"my-test-vdb\")\n",
    "\n",
    "# Upsert transformed sentences\n",
    "# Upsert sample data (6 384-dimensional vectors)\n",
    "\n",
    "embedding_upserts = zip (embeddings_ids, embeddings)\n",
    "upserts = []\n",
    "for i,e in embedding_upserts:\n",
    "    upserts.append((f\"{i}\",e))\n",
    "index.upsert(upserts)"
   ]
  },
  {
   "cell_type": "markdown",
   "id": "a7d2cd0c-49f6-4699-91e5-19238b1b4491",
   "metadata": {},
   "source": [
    "#### 3. Use a query vector for similarity search"
   ]
  },
  {
   "cell_type": "code",
   "execution_count": null,
   "id": "75380448-a82e-4eac-a7f8-809f3fc16325",
   "metadata": {
    "tags": []
   },
   "outputs": [],
   "source": [
    "# Transform a query or statement into a vector (embeddings) using the same transform method as used for the sentences.\n",
    "query = \"I want to visit the England.\"\n",
    "query_vector = model.encode(query).tolist()\n",
    "\n",
    "# Query the index for similarity matches\n",
    "results = index.query(\n",
    "  vector=query_vector,\n",
    "  top_k=3,\n",
    "  include_values=True\n",
    ").matches\n",
    "\n",
    "# Map result vectors to sentences\n",
    "out = {embeddings_ids[i]: sentences[i] for i in range(len(embeddings_ids))}\n",
    "for id in results:\n",
    "    print(out[id.id])"
   ]
  },
  {
   "cell_type": "markdown",
   "id": "a65de729-76ea-48c2-9901-ae059da7a76f",
   "metadata": {},
   "source": [
    "**Cleanup**"
   ]
  },
  {
   "cell_type": "code",
   "execution_count": null,
   "id": "9b0d3927-0e1b-4dd0-9d4e-6881f9b1b221",
   "metadata": {
    "tags": []
   },
   "outputs": [],
   "source": [
    "pinecone.delete_index(\"my-test-vdb\")"
   ]
  }
 ],
 "metadata": {
  "kernelspec": {
   "display_name": "Python 3.9",
   "language": "python",
   "name": "python3.9"
  },
  "language_info": {
   "codemirror_mode": {
    "name": "ipython",
    "version": 3
   },
   "file_extension": ".py",
   "mimetype": "text/x-python",
   "name": "python",
   "nbconvert_exporter": "python",
   "pygments_lexer": "ipython3",
   "version": "3.9.16"
  }
 },
 "nbformat": 4,
 "nbformat_minor": 5
}
